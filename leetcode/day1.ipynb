{
  "nbformat": 4,
  "nbformat_minor": 0,
  "metadata": {
    "colab": {
      "provenance": [],
      "authorship_tag": "ABX9TyMnaD9HJBbdkL2G7OnlbFrt",
      "include_colab_link": true
    },
    "kernelspec": {
      "name": "python3",
      "display_name": "Python 3"
    },
    "language_info": {
      "name": "python"
    }
  },
  "cells": [
    {
      "cell_type": "markdown",
      "metadata": {
        "id": "view-in-github",
        "colab_type": "text"
      },
      "source": [
        "<a href=\"https://colab.research.google.com/github/ankit200502/captain-jack/blob/main/leetcode/day1.ipynb\" target=\"_parent\"><img src=\"https://colab.research.google.com/assets/colab-badge.svg\" alt=\"Open In Colab\"/></a>"
      ]
    },
    {
      "cell_type": "code",
      "execution_count": 3,
      "metadata": {
        "colab": {
          "base_uri": "https://localhost:8080/"
        },
        "id": "hR8lT8LWifvf",
        "outputId": "02f80b55-8b33-4541-e050-83a9db8a3ec3"
      },
      "outputs": [
        {
          "output_type": "stream",
          "name": "stdout",
          "text": [
            "0\n",
            "3\n"
          ]
        }
      ],
      "source": [
        "l=[3,2,2,3]\n",
        "t=3\n",
        "for i in range(len(l)):\n",
        "  if t==l[i]:\n",
        "    print(i)"
      ]
    },
    {
      "cell_type": "code",
      "source": [
        "l=[3,2,2,3]\n",
        "t=3\n",
        "k=0\n",
        "for i in range(len(l)):\n",
        "  if t!=l[i]:\n",
        "    l[k]=l[i]\n",
        "    k+=1\n",
        "print(k)\n",
        "print(l)"
      ],
      "metadata": {
        "colab": {
          "base_uri": "https://localhost:8080/"
        },
        "id": "tcRnMn0arGII",
        "outputId": "0f7e302e-b77f-4e1b-a998-8cd061c31769"
      },
      "execution_count": 8,
      "outputs": [
        {
          "output_type": "stream",
          "name": "stdout",
          "text": [
            "2\n",
            "[2, 2, 2, 3]\n"
          ]
        }
      ]
    }
  ]
}